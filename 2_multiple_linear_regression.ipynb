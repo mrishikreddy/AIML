{
  "nbformat": 4,
  "nbformat_minor": 0,
  "metadata": {
    "colab": {
      "provenance": [],
      "toc_visible": true,
      "authorship_tag": "ABX9TyMT+U3Wr5Syo2Uemk1W8WeS",
      "include_colab_link": true
    },
    "kernelspec": {
      "name": "python3",
      "display_name": "Python 3"
    },
    "language_info": {
      "name": "python"
    }
  },
  "cells": [
    {
      "cell_type": "markdown",
      "metadata": {
        "id": "view-in-github",
        "colab_type": "text"
      },
      "source": [
        "<a href=\"https://colab.research.google.com/github/MRishikReddy/AIML/blob/main/2_multiple_linear_regression.ipynb\" target=\"_parent\"><img src=\"https://colab.research.google.com/assets/colab-badge.svg\" alt=\"Open In Colab\"/></a>"
      ]
    },
    {
      "cell_type": "code",
      "execution_count": null,
      "metadata": {
        "id": "cKU5TXKh8tej"
      },
      "outputs": [],
      "source": [
        "import numpy as np\n",
        "import pandas as pd\n",
        "import matplotlib.pyplot as plt\n",
        "from sklearn import linear_model as lm\n",
        "from sklearn.metrics import r2_score\n"
      ]
    },
    {
      "cell_type": "code",
      "source": [
        "!wget -O FuelConsumption.csv https://cf-courses-data.s3.us.cloud-object-storage.appdomain.cloud/IBMDeveloperSkillsNetwork-ML0101EN-SkillsNetwork/labs/Module%202/data/FuelConsumptionCo2.csv"
      ],
      "metadata": {
        "colab": {
          "base_uri": "https://localhost:8080/"
        },
        "id": "6RPA6vNS-2Kl",
        "outputId": "5f57661e-b92f-41eb-ce76-5c68013621da"
      },
      "execution_count": null,
      "outputs": [
        {
          "output_type": "stream",
          "name": "stdout",
          "text": [
            "--2024-02-26 15:21:06--  https://cf-courses-data.s3.us.cloud-object-storage.appdomain.cloud/IBMDeveloperSkillsNetwork-ML0101EN-SkillsNetwork/labs/Module%202/data/FuelConsumptionCo2.csv\n",
            "Resolving cf-courses-data.s3.us.cloud-object-storage.appdomain.cloud (cf-courses-data.s3.us.cloud-object-storage.appdomain.cloud)... 169.63.118.104\n",
            "Connecting to cf-courses-data.s3.us.cloud-object-storage.appdomain.cloud (cf-courses-data.s3.us.cloud-object-storage.appdomain.cloud)|169.63.118.104|:443... connected.\n",
            "HTTP request sent, awaiting response... 200 OK\n",
            "Length: 72629 (71K) [text/csv]\n",
            "Saving to: ‘FuelConsumption.csv’\n",
            "\n",
            "FuelConsumption.csv 100%[===================>]  70.93K  --.-KB/s    in 0.05s   \n",
            "\n",
            "2024-02-26 15:21:06 (1.35 MB/s) - ‘FuelConsumption.csv’ saved [72629/72629]\n",
            "\n"
          ]
        }
      ]
    },
    {
      "cell_type": "code",
      "source": [
        "df = pd.read_csv(\"FuelConsumption.csv\")\n",
        "print(df.head(10))"
      ],
      "metadata": {
        "colab": {
          "base_uri": "https://localhost:8080/"
        },
        "id": "wW6aRVQgBOmW",
        "outputId": "da32380a-eeac-49f3-cd4d-36995ac0c7a6"
      },
      "execution_count": null,
      "outputs": [
        {
          "output_type": "stream",
          "name": "stdout",
          "text": [
            "   MODELYEAR   MAKE       MODEL VEHICLECLASS  ENGINESIZE  CYLINDERS  \\\n",
            "0       2014  ACURA         ILX      COMPACT         2.0          4   \n",
            "1       2014  ACURA         ILX      COMPACT         2.4          4   \n",
            "2       2014  ACURA  ILX HYBRID      COMPACT         1.5          4   \n",
            "3       2014  ACURA     MDX 4WD  SUV - SMALL         3.5          6   \n",
            "4       2014  ACURA     RDX AWD  SUV - SMALL         3.5          6   \n",
            "5       2014  ACURA         RLX     MID-SIZE         3.5          6   \n",
            "6       2014  ACURA          TL     MID-SIZE         3.5          6   \n",
            "7       2014  ACURA      TL AWD     MID-SIZE         3.7          6   \n",
            "8       2014  ACURA      TL AWD     MID-SIZE         3.7          6   \n",
            "9       2014  ACURA         TSX      COMPACT         2.4          4   \n",
            "\n",
            "  TRANSMISSION FUELTYPE  FUELCONSUMPTION_CITY  FUELCONSUMPTION_HWY  \\\n",
            "0          AS5        Z                   9.9                  6.7   \n",
            "1           M6        Z                  11.2                  7.7   \n",
            "2          AV7        Z                   6.0                  5.8   \n",
            "3          AS6        Z                  12.7                  9.1   \n",
            "4          AS6        Z                  12.1                  8.7   \n",
            "5          AS6        Z                  11.9                  7.7   \n",
            "6          AS6        Z                  11.8                  8.1   \n",
            "7          AS6        Z                  12.8                  9.0   \n",
            "8           M6        Z                  13.4                  9.5   \n",
            "9          AS5        Z                  10.6                  7.5   \n",
            "\n",
            "   FUELCONSUMPTION_COMB  FUELCONSUMPTION_COMB_MPG  CO2EMISSIONS  \n",
            "0                   8.5                        33           196  \n",
            "1                   9.6                        29           221  \n",
            "2                   5.9                        48           136  \n",
            "3                  11.1                        25           255  \n",
            "4                  10.6                        27           244  \n",
            "5                  10.0                        28           230  \n",
            "6                  10.1                        28           232  \n",
            "7                  11.1                        25           255  \n",
            "8                  11.6                        24           267  \n",
            "9                   9.2                        31           212  \n"
          ]
        }
      ]
    },
    {
      "cell_type": "code",
      "source": [
        "cdf = df[[\"ENGINESIZE\",\"CYLINDERS\",\"FUELCONSUMPTION_CITY\",\"FUELCONSUMPTION_COMB\",\"CO2EMISSIONS\"]]\n",
        "print(cdf.head())"
      ],
      "metadata": {
        "colab": {
          "base_uri": "https://localhost:8080/"
        },
        "id": "0OF6neVRBcp0",
        "outputId": "411c9f86-9612-4368-cddf-56cfaed69879"
      },
      "execution_count": null,
      "outputs": [
        {
          "output_type": "stream",
          "name": "stdout",
          "text": [
            "   ENGINESIZE  CYLINDERS  FUELCONSUMPTION_CITY  FUELCONSUMPTION_COMB  \\\n",
            "0         2.0          4                   9.9                   8.5   \n",
            "1         2.4          4                  11.2                   9.6   \n",
            "2         1.5          4                   6.0                   5.9   \n",
            "3         3.5          6                  12.7                  11.1   \n",
            "4         3.5          6                  12.1                  10.6   \n",
            "\n",
            "   CO2EMISSIONS  \n",
            "0           196  \n",
            "1           221  \n",
            "2           136  \n",
            "3           255  \n",
            "4           244  \n"
          ]
        }
      ]
    },
    {
      "cell_type": "code",
      "source": [
        "plt.scatter(cdf.ENGINESIZE,cdf.CO2EMISSIONS,color='blue')\n",
        "plt.xlabel('Engine Size')\n",
        "plt.ylabel('Co2 Emissions')\n",
        "plt.show()"
      ],
      "metadata": {
        "colab": {
          "base_uri": "https://localhost:8080/",
          "height": 449
        },
        "id": "FQHCxGX4CIHL",
        "outputId": "b9bb739a-d2b2-47ea-f32b-e081669ae448"
      },
      "execution_count": null,
      "outputs": [
        {
          "output_type": "display_data",
          "data": {
            "text/plain": [
              "<Figure size 640x480 with 1 Axes>"
            ],
            "image/png": "[encoded data removed]"
          },
          "metadata": {}
        }
      ]
    },
    {
      "cell_type": "code",
      "source": [
        "msk = np.random.rand(len(cdf)) <0.8\n",
        "train = cdf[msk]\n",
        "test = cdf[~msk]"
      ],
      "metadata": {
        "id": "rrHFyrQECuB5"
      },
      "execution_count": null,
      "outputs": []
    },
    {
      "cell_type": "code",
      "source": [
        "regr = lm.LinearRegression()\n",
        "train_x = np.asanyarray(train[[\"ENGINESIZE\",\"CYLINDERS\",\"FUELCONSUMPTION_CITY\",\"FUELCONSUMPTION_COMB\"]])\n",
        "train_y = np.asanyarray(train[['CO2EMISSIONS']])\n",
        "regr.fit(train_x,train_y)\n",
        "print(\"m:\",regr.coef_)\n",
        "print(\"C:\",regr.intercept_)"
      ],
      "metadata": {
        "colab": {
          "base_uri": "https://localhost:8080/"
        },
        "id": "hHPbmUM0C_BP",
        "outputId": "97a0f3b1-b907-4ca1-c445-c22204d5a254"
      },
      "execution_count": null,
      "outputs": [
        {
          "output_type": "stream",
          "name": "stdout",
          "text": [
            "m: [[10.25985052  8.00342243  3.02648684  5.89536124]]\n",
            "C: [66.33661577]\n"
          ]
        }
      ]
    },
    {
      "cell_type": "code",
      "source": [
        "x = np.asanyarray(test[[\"ENGINESIZE\",\"CYLINDERS\",\"FUELCONSUMPTION_CITY\",\"FUELCONSUMPTION_COMB\"]])\n",
        "y = np.asanyarray(test[[\"CO2EMISSIONS\"]])\n",
        "y_result = regr.predict(x)\n",
        "SME = np.mean(y_result-y)**2\n",
        "print(\"SME : %.2f \"%SME)\n",
        "print(\"r2 score : %.2f\"%r2_score(y,y_result))"
      ],
      "metadata": {
        "colab": {
          "base_uri": "https://localhost:8080/"
        },
        "id": "Nmazf5voHniz",
        "outputId": "6d2c6b87-a413-43fe-8a40-f1b3c7da09e9"
      },
      "execution_count": null,
      "outputs": [
        {
          "output_type": "stream",
          "name": "stdout",
          "text": [
            "SME : 13.30 \n",
            "r2 score : 0.86\n"
          ]
        }
      ]
    },
    {
      "cell_type": "code",
      "source": [
        "dx = np.asanyarray([[2,4,9.9,8.5]])\n",
        "ry = regr.predict(dx)\n",
        "print(ry)"
      ],
      "metadata": {
        "colab": {
          "base_uri": "https://localhost:8080/"
        },
        "id": "8LM0-6OzLgRn",
        "outputId": "9b873ce7-d130-4a01-8893-6fb25c3cd6ce"
      },
      "execution_count": null,
      "outputs": [
        {
          "output_type": "stream",
          "name": "stdout",
          "text": [
            "[[198.94279677]]\n"
          ]
        }
      ]
    }
  ]
}